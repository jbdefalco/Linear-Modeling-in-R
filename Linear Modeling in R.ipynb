{
 "cells": [
  {
   "cell_type": "markdown",
   "id": "48018459-c00d-4485-982c-0844e0d9e086",
   "metadata": {},
   "source": [
    "# Linear Modeling in R"
   ]
  },
  {
   "cell_type": "code",
   "execution_count": 1,
   "id": "eb96d99c-0757-439c-9533-594b7a95d61c",
   "metadata": {},
   "outputs": [],
   "source": [
    "df = read.csv(\"regrex1.csv\")"
   ]
  },
  {
   "cell_type": "code",
   "execution_count": 4,
   "id": "e1effcef-50b1-4a00-88ab-ced26388aad5",
   "metadata": {},
   "outputs": [
    {
     "data": {
      "text/html": [
       "<table class=\"dataframe\">\n",
       "<caption>A data.frame: 6 × 2</caption>\n",
       "<thead>\n",
       "\t<tr><th></th><th scope=col>y</th><th scope=col>x</th></tr>\n",
       "\t<tr><th></th><th scope=col>&lt;dbl&gt;</th><th scope=col>&lt;dbl&gt;</th></tr>\n",
       "</thead>\n",
       "<tbody>\n",
       "\t<tr><th scope=row>1</th><td>6.8102</td><td> 9.8492</td></tr>\n",
       "\t<tr><th scope=row>2</th><td>9.8437</td><td>11.1450</td></tr>\n",
       "\t<tr><th scope=row>3</th><td>4.9767</td><td> 5.1209</td></tr>\n",
       "\t<tr><th scope=row>4</th><td>5.0006</td><td> 8.1085</td></tr>\n",
       "\t<tr><th scope=row>5</th><td>3.5047</td><td> 3.5599</td></tr>\n",
       "\t<tr><th scope=row>6</th><td>3.6419</td><td> 1.9883</td></tr>\n",
       "</tbody>\n",
       "</table>\n"
      ],
      "text/latex": [
       "A data.frame: 6 × 2\n",
       "\\begin{tabular}{r|ll}\n",
       "  & y & x\\\\\n",
       "  & <dbl> & <dbl>\\\\\n",
       "\\hline\n",
       "\t1 & 6.8102 &  9.8492\\\\\n",
       "\t2 & 9.8437 & 11.1450\\\\\n",
       "\t3 & 4.9767 &  5.1209\\\\\n",
       "\t4 & 5.0006 &  8.1085\\\\\n",
       "\t5 & 3.5047 &  3.5599\\\\\n",
       "\t6 & 3.6419 &  1.9883\\\\\n",
       "\\end{tabular}\n"
      ],
      "text/markdown": [
       "\n",
       "A data.frame: 6 × 2\n",
       "\n",
       "| <!--/--> | y &lt;dbl&gt; | x &lt;dbl&gt; |\n",
       "|---|---|---|\n",
       "| 1 | 6.8102 |  9.8492 |\n",
       "| 2 | 9.8437 | 11.1450 |\n",
       "| 3 | 4.9767 |  5.1209 |\n",
       "| 4 | 5.0006 |  8.1085 |\n",
       "| 5 | 3.5047 |  3.5599 |\n",
       "| 6 | 3.6419 |  1.9883 |\n",
       "\n"
      ],
      "text/plain": [
       "  y      x      \n",
       "1 6.8102  9.8492\n",
       "2 9.8437 11.1450\n",
       "3 4.9767  5.1209\n",
       "4 5.0006  8.1085\n",
       "5 3.5047  3.5599\n",
       "6 3.6419  1.9883"
      ]
     },
     "metadata": {},
     "output_type": "display_data"
    }
   ],
   "source": [
    "head(df)"
   ]
  },
  {
   "cell_type": "code",
   "execution_count": 5,
   "id": "e77aae78-c051-4d84-b360-052fb80e4367",
   "metadata": {},
   "outputs": [
    {
     "data": {
      "image/png": "[encoded data removed]",
      "text/plain": [
       "plot without title"
      ]
     },
     "metadata": {
      "image/png": {
       "height": 420,
       "width": 420
      }
     },
     "output_type": "display_data"
    }
   ],
   "source": [
    "plot(df$x,df$y)"
   ]
  },
  {
   "cell_type": "code",
   "execution_count": 9,
   "id": "ceb971ff-af25-409a-ba5a-303b24fc237e",
   "metadata": {},
   "outputs": [],
   "source": [
    "model = lm(y~x, data = df)"
   ]
  },
  {
   "cell_type": "code",
   "execution_count": 13,
   "id": "b06224a9-26b8-440d-bfcf-7c8ab8961c6c",
   "metadata": {},
   "outputs": [],
   "source": [
    "summary_stats = summary (model)"
   ]
  },
  {
   "cell_type": "code",
   "execution_count": 14,
   "id": "8a33fa74-4a4a-42bd-9674-aabe3a1ffcbe",
   "metadata": {},
   "outputs": [
    {
     "data": {
      "text/plain": [
       "\n",
       "Call:\n",
       "lm(formula = y ~ x, data = df)\n",
       "\n",
       "Residuals:\n",
       "     Min       1Q   Median       3Q      Max \n",
       "-1.66121 -0.53286 -0.02869  0.50436  2.36786 \n",
       "\n",
       "Coefficients:\n",
       "            Estimate Std. Error t value Pr(>|t|)    \n",
       "(Intercept)  2.24814    0.29365   7.656 2.44e-08 ***\n",
       "x            0.46906    0.02444  19.194  < 2e-16 ***\n",
       "---\n",
       "Signif. codes:  0 ‘***’ 0.001 ‘**’ 0.01 ‘*’ 0.05 ‘.’ 0.1 ‘ ’ 1\n",
       "\n",
       "Residual standard error: 0.8779 on 28 degrees of freedom\n",
       "Multiple R-squared:  0.9294,\tAdjusted R-squared:  0.9268 \n",
       "F-statistic: 368.4 on 1 and 28 DF,  p-value: < 2.2e-16\n"
      ]
     },
     "metadata": {},
     "output_type": "display_data"
    }
   ],
   "source": [
    "summary_stats"
   ]
  },
  {
   "cell_type": "code",
   "execution_count": 11,
   "id": "92cf3dce-d9a0-4f17-896e-f2c9396aabfc",
   "metadata": {},
   "outputs": [
    {
     "data": {
      "text/html": [
       "0.929364155128174"
      ],
      "text/latex": [
       "0.929364155128174"
      ],
      "text/markdown": [
       "0.929364155128174"
      ],
      "text/plain": [
       "[1] 0.9293642"
      ]
     },
     "metadata": {},
     "output_type": "display_data"
    }
   ],
   "source": [
    "summary(model)$r.squared"
   ]
  },
  {
   "cell_type": "code",
   "execution_count": 15,
   "id": "9935f77a-701d-4b44-aab7-4062e40b69f4",
   "metadata": {},
   "outputs": [
    {
     "data": {
      "text/html": [
       "<style>\n",
       ".dl-inline {width: auto; margin:0; padding: 0}\n",
       ".dl-inline>dt, .dl-inline>dd {float: none; width: auto; display: inline-block}\n",
       ".dl-inline>dt::after {content: \":\\0020\"; padding-right: .5ex}\n",
       ".dl-inline>dt:not(:first-of-type) {padding-left: .5ex}\n",
       "</style><dl class=dl-inline><dt>(Intercept)</dt><dd>2.24814277366699</dd><dt>x</dt><dd>0.469062282751859</dd></dl>\n"
      ],
      "text/latex": [
       "\\begin{description*}\n",
       "\\item[(Intercept)] 2.24814277366699\n",
       "\\item[x] 0.469062282751859\n",
       "\\end{description*}\n"
      ],
      "text/markdown": [
       "(Intercept)\n",
       ":   2.24814277366699x\n",
       ":   0.469062282751859\n",
       "\n"
      ],
      "text/plain": [
       "(Intercept)           x \n",
       "  2.2481428   0.4690623 "
      ]
     },
     "metadata": {},
     "output_type": "display_data"
    }
   ],
   "source": [
    "coef(model)"
   ]
  },
  {
   "cell_type": "code",
   "execution_count": 16,
   "id": "8b833b62-a5e9-4a07-9211-c1dd2f375421",
   "metadata": {},
   "outputs": [
    {
     "data": {
      "text/html": [
       "<strong>(Intercept):</strong> 2.24814277366699"
      ],
      "text/latex": [
       "\\textbf{(Intercept):} 2.24814277366699"
      ],
      "text/markdown": [
       "**(Intercept):** 2.24814277366699"
      ],
      "text/plain": [
       "(Intercept) \n",
       "   2.248143 "
      ]
     },
     "metadata": {},
     "output_type": "display_data"
    }
   ],
   "source": [
    "coef(model)[1]"
   ]
  },
  {
   "cell_type": "code",
   "execution_count": 17,
   "id": "db425ea5-3e80-4aed-8f3d-30fd979a6785",
   "metadata": {},
   "outputs": [
    {
     "data": {
      "text/html": [
       "<strong>x:</strong> 0.469062282751859"
      ],
      "text/latex": [
       "\\textbf{x:} 0.469062282751859"
      ],
      "text/markdown": [
       "**x:** 0.469062282751859"
      ],
      "text/plain": [
       "        x \n",
       "0.4690623 "
      ]
     },
     "metadata": {},
     "output_type": "display_data"
    }
   ],
   "source": [
    "coef(model)[2]"
   ]
  },
  {
   "cell_type": "code",
   "execution_count": 20,
   "id": "2da19d11-d3c4-4f95-bee4-bda741711203",
   "metadata": {},
   "outputs": [],
   "source": [
    "y_predict = predict(model, df)"
   ]
  },
  {
   "cell_type": "code",
   "execution_count": 21,
   "id": "9c00dcc0-89b5-4919-8260-752587cbab4b",
   "metadata": {},
   "outputs": [
    {
     "data": {
      "image/png": "[encoded data removed]",
      "text/plain": [
       "plot without title"
      ]
     },
     "metadata": {
      "image/png": {
       "height": 420,
       "width": 420
      }
     },
     "output_type": "display_data"
    }
   ],
   "source": [
    "plot(df$x, y_predict)"
   ]
  },
  {
   "cell_type": "code",
   "execution_count": 25,
   "id": "cdc8890d-eabb-407a-8aa0-dc6d11f8743e",
   "metadata": {},
   "outputs": [
    {
     "data": {
      "image/png": "[encoded data removed]",
      "text/plain": [
       "plot without title"
      ]
     },
     "metadata": {
      "image/png": {
       "height": 420,
       "width": 420
      }
     },
     "output_type": "display_data"
    }
   ],
   "source": [
    "plot(df$x,df$y)\n",
    "lines(df$x,y_predict)\n"
   ]
  },
  {
   "cell_type": "code",
   "execution_count": null,
   "id": "0bb66f23-8cee-482f-b2ae-0a96e44ea7b4",
   "metadata": {},
   "outputs": [],
   "source": []
  }
 ],
 "metadata": {
  "kernelspec": {
   "display_name": "R",
   "language": "R",
   "name": "ir"
  },
  "language_info": {
   "codemirror_mode": "r",
   "file_extension": ".r",
   "mimetype": "text/x-r-source",
   "name": "R",
   "pygments_lexer": "r",
   "version": "4.0.5"
  }
 },
 "nbformat": 4,
 "nbformat_minor": 5
}
